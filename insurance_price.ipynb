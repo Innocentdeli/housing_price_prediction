{
 "cells": [
  {
   "cell_type": "code",
   "execution_count": 1,
   "id": "f53606df",
   "metadata": {},
   "outputs": [],
   "source": [
    "import pandas as pd"
   ]
  },
  {
   "cell_type": "code",
   "execution_count": 2,
   "id": "6ea58724",
   "metadata": {},
   "outputs": [],
   "source": [
    "ins = pd.read_csv('./insurance.csv')"
   ]
  },
  {
   "cell_type": "code",
   "execution_count": 4,
   "id": "be8af645",
   "metadata": {},
   "outputs": [
    {
     "data": {
      "text/html": [
       "<div>\n",
       "<style scoped>\n",
       "    .dataframe tbody tr th:only-of-type {\n",
       "        vertical-align: middle;\n",
       "    }\n",
       "\n",
       "    .dataframe tbody tr th {\n",
       "        vertical-align: top;\n",
       "    }\n",
       "\n",
       "    .dataframe thead th {\n",
       "        text-align: right;\n",
       "    }\n",
       "</style>\n",
       "<table border=\"1\" class=\"dataframe\">\n",
       "  <thead>\n",
       "    <tr style=\"text-align: right;\">\n",
       "      <th></th>\n",
       "      <th>age</th>\n",
       "      <th>sex</th>\n",
       "      <th>bmi</th>\n",
       "      <th>children</th>\n",
       "      <th>smoker</th>\n",
       "      <th>region</th>\n",
       "      <th>charges</th>\n",
       "    </tr>\n",
       "  </thead>\n",
       "  <tbody>\n",
       "    <tr>\n",
       "      <th>0</th>\n",
       "      <td>19</td>\n",
       "      <td>female</td>\n",
       "      <td>27.900</td>\n",
       "      <td>0</td>\n",
       "      <td>yes</td>\n",
       "      <td>southwest</td>\n",
       "      <td>16884.92400</td>\n",
       "    </tr>\n",
       "    <tr>\n",
       "      <th>1</th>\n",
       "      <td>18</td>\n",
       "      <td>male</td>\n",
       "      <td>33.770</td>\n",
       "      <td>1</td>\n",
       "      <td>no</td>\n",
       "      <td>southeast</td>\n",
       "      <td>1725.55230</td>\n",
       "    </tr>\n",
       "    <tr>\n",
       "      <th>2</th>\n",
       "      <td>28</td>\n",
       "      <td>male</td>\n",
       "      <td>33.000</td>\n",
       "      <td>3</td>\n",
       "      <td>no</td>\n",
       "      <td>southeast</td>\n",
       "      <td>4449.46200</td>\n",
       "    </tr>\n",
       "    <tr>\n",
       "      <th>3</th>\n",
       "      <td>33</td>\n",
       "      <td>male</td>\n",
       "      <td>22.705</td>\n",
       "      <td>0</td>\n",
       "      <td>no</td>\n",
       "      <td>northwest</td>\n",
       "      <td>21984.47061</td>\n",
       "    </tr>\n",
       "    <tr>\n",
       "      <th>4</th>\n",
       "      <td>32</td>\n",
       "      <td>male</td>\n",
       "      <td>28.880</td>\n",
       "      <td>0</td>\n",
       "      <td>no</td>\n",
       "      <td>northwest</td>\n",
       "      <td>3866.85520</td>\n",
       "    </tr>\n",
       "  </tbody>\n",
       "</table>\n",
       "</div>"
      ],
      "text/plain": [
       "   age     sex     bmi  children smoker     region      charges\n",
       "0   19  female  27.900         0    yes  southwest  16884.92400\n",
       "1   18    male  33.770         1     no  southeast   1725.55230\n",
       "2   28    male  33.000         3     no  southeast   4449.46200\n",
       "3   33    male  22.705         0     no  northwest  21984.47061\n",
       "4   32    male  28.880         0     no  northwest   3866.85520"
      ]
     },
     "execution_count": 4,
     "metadata": {},
     "output_type": "execute_result"
    }
   ],
   "source": [
    "ins.head()"
   ]
  },
  {
   "cell_type": "code",
   "execution_count": 5,
   "id": "f39c0c4a",
   "metadata": {},
   "outputs": [
    {
     "name": "stdout",
     "output_type": "stream",
     "text": [
      "<class 'pandas.core.frame.DataFrame'>\n",
      "RangeIndex: 1338 entries, 0 to 1337\n",
      "Data columns (total 7 columns):\n",
      " #   Column    Non-Null Count  Dtype  \n",
      "---  ------    --------------  -----  \n",
      " 0   age       1338 non-null   int64  \n",
      " 1   sex       1338 non-null   object \n",
      " 2   bmi       1338 non-null   float64\n",
      " 3   children  1338 non-null   int64  \n",
      " 4   smoker    1338 non-null   object \n",
      " 5   region    1338 non-null   object \n",
      " 6   charges   1338 non-null   float64\n",
      "dtypes: float64(2), int64(2), object(3)\n",
      "memory usage: 73.3+ KB\n"
     ]
    }
   ],
   "source": [
    "ins.info()"
   ]
  },
  {
   "cell_type": "code",
   "execution_count": 6,
   "id": "7e13b045",
   "metadata": {},
   "outputs": [
    {
     "data": {
      "text/plain": [
       "male      676\n",
       "female    662\n",
       "Name: sex, dtype: int64"
      ]
     },
     "execution_count": 6,
     "metadata": {},
     "output_type": "execute_result"
    }
   ],
   "source": [
    "#sex has a categorical value\n",
    "ins['sex'].value_counts()"
   ]
  },
  {
   "cell_type": "code",
   "execution_count": 7,
   "id": "129b0a50",
   "metadata": {},
   "outputs": [
    {
     "data": {
      "text/html": [
       "<div>\n",
       "<style scoped>\n",
       "    .dataframe tbody tr th:only-of-type {\n",
       "        vertical-align: middle;\n",
       "    }\n",
       "\n",
       "    .dataframe tbody tr th {\n",
       "        vertical-align: top;\n",
       "    }\n",
       "\n",
       "    .dataframe thead th {\n",
       "        text-align: right;\n",
       "    }\n",
       "</style>\n",
       "<table border=\"1\" class=\"dataframe\">\n",
       "  <thead>\n",
       "    <tr style=\"text-align: right;\">\n",
       "      <th></th>\n",
       "      <th>age</th>\n",
       "      <th>bmi</th>\n",
       "      <th>children</th>\n",
       "      <th>charges</th>\n",
       "    </tr>\n",
       "  </thead>\n",
       "  <tbody>\n",
       "    <tr>\n",
       "      <th>count</th>\n",
       "      <td>1338.000000</td>\n",
       "      <td>1338.000000</td>\n",
       "      <td>1338.000000</td>\n",
       "      <td>1338.000000</td>\n",
       "    </tr>\n",
       "    <tr>\n",
       "      <th>mean</th>\n",
       "      <td>39.207025</td>\n",
       "      <td>30.663397</td>\n",
       "      <td>1.094918</td>\n",
       "      <td>13270.422265</td>\n",
       "    </tr>\n",
       "    <tr>\n",
       "      <th>std</th>\n",
       "      <td>14.049960</td>\n",
       "      <td>6.098187</td>\n",
       "      <td>1.205493</td>\n",
       "      <td>12110.011237</td>\n",
       "    </tr>\n",
       "    <tr>\n",
       "      <th>min</th>\n",
       "      <td>18.000000</td>\n",
       "      <td>15.960000</td>\n",
       "      <td>0.000000</td>\n",
       "      <td>1121.873900</td>\n",
       "    </tr>\n",
       "    <tr>\n",
       "      <th>25%</th>\n",
       "      <td>27.000000</td>\n",
       "      <td>26.296250</td>\n",
       "      <td>0.000000</td>\n",
       "      <td>4740.287150</td>\n",
       "    </tr>\n",
       "    <tr>\n",
       "      <th>50%</th>\n",
       "      <td>39.000000</td>\n",
       "      <td>30.400000</td>\n",
       "      <td>1.000000</td>\n",
       "      <td>9382.033000</td>\n",
       "    </tr>\n",
       "    <tr>\n",
       "      <th>75%</th>\n",
       "      <td>51.000000</td>\n",
       "      <td>34.693750</td>\n",
       "      <td>2.000000</td>\n",
       "      <td>16639.912515</td>\n",
       "    </tr>\n",
       "    <tr>\n",
       "      <th>max</th>\n",
       "      <td>64.000000</td>\n",
       "      <td>53.130000</td>\n",
       "      <td>5.000000</td>\n",
       "      <td>63770.428010</td>\n",
       "    </tr>\n",
       "  </tbody>\n",
       "</table>\n",
       "</div>"
      ],
      "text/plain": [
       "               age          bmi     children       charges\n",
       "count  1338.000000  1338.000000  1338.000000   1338.000000\n",
       "mean     39.207025    30.663397     1.094918  13270.422265\n",
       "std      14.049960     6.098187     1.205493  12110.011237\n",
       "min      18.000000    15.960000     0.000000   1121.873900\n",
       "25%      27.000000    26.296250     0.000000   4740.287150\n",
       "50%      39.000000    30.400000     1.000000   9382.033000\n",
       "75%      51.000000    34.693750     2.000000  16639.912515\n",
       "max      64.000000    53.130000     5.000000  63770.428010"
      ]
     },
     "execution_count": 7,
     "metadata": {},
     "output_type": "execute_result"
    }
   ],
   "source": [
    "ins.describe()"
   ]
  },
  {
   "cell_type": "code",
   "execution_count": 12,
   "id": "2862b546",
   "metadata": {},
   "outputs": [
    {
     "data": {
      "image/png": "[encoded data removed]",
      "text/plain": [
       "<Figure size 1440x1080 with 4 Axes>"
      ]
     },
     "metadata": {
      "needs_background": "light"
     },
     "output_type": "display_data"
    }
   ],
   "source": [
    "#visualizing dataset\n",
    "%matplotlib inline\n",
    "import matplotlib.pyplot as plt\n",
    "\n",
    "ins.hist(bins=50, figsize=(20,15))\n",
    "plt.show()"
   ]
  },
  {
   "cell_type": "code",
   "execution_count": 14,
   "id": "ddb443bf",
   "metadata": {},
   "outputs": [],
   "source": [
    "#splitting train test set\n",
    "from sklearn.model_selection import train_test_split\n",
    "train_set, test_set = train_test_split(ins, test_size=0.2, random_state=22)"
   ]
  },
  {
   "cell_type": "code",
   "execution_count": 15,
   "id": "9857c0a7",
   "metadata": {},
   "outputs": [
    {
     "data": {
      "text/html": [
       "<div>\n",
       "<style scoped>\n",
       "    .dataframe tbody tr th:only-of-type {\n",
       "        vertical-align: middle;\n",
       "    }\n",
       "\n",
       "    .dataframe tbody tr th {\n",
       "        vertical-align: top;\n",
       "    }\n",
       "\n",
       "    .dataframe thead th {\n",
       "        text-align: right;\n",
       "    }\n",
       "</style>\n",
       "<table border=\"1\" class=\"dataframe\">\n",
       "  <thead>\n",
       "    <tr style=\"text-align: right;\">\n",
       "      <th></th>\n",
       "      <th>age</th>\n",
       "      <th>sex</th>\n",
       "      <th>bmi</th>\n",
       "      <th>children</th>\n",
       "      <th>smoker</th>\n",
       "      <th>region</th>\n",
       "      <th>charges</th>\n",
       "    </tr>\n",
       "  </thead>\n",
       "  <tbody>\n",
       "    <tr>\n",
       "      <th>425</th>\n",
       "      <td>45</td>\n",
       "      <td>male</td>\n",
       "      <td>24.310</td>\n",
       "      <td>5</td>\n",
       "      <td>no</td>\n",
       "      <td>southeast</td>\n",
       "      <td>9788.86590</td>\n",
       "    </tr>\n",
       "    <tr>\n",
       "      <th>851</th>\n",
       "      <td>61</td>\n",
       "      <td>male</td>\n",
       "      <td>32.300</td>\n",
       "      <td>2</td>\n",
       "      <td>no</td>\n",
       "      <td>northwest</td>\n",
       "      <td>14119.62000</td>\n",
       "    </tr>\n",
       "    <tr>\n",
       "      <th>22</th>\n",
       "      <td>18</td>\n",
       "      <td>male</td>\n",
       "      <td>34.100</td>\n",
       "      <td>0</td>\n",
       "      <td>no</td>\n",
       "      <td>southeast</td>\n",
       "      <td>1137.01100</td>\n",
       "    </tr>\n",
       "    <tr>\n",
       "      <th>386</th>\n",
       "      <td>58</td>\n",
       "      <td>female</td>\n",
       "      <td>39.050</td>\n",
       "      <td>0</td>\n",
       "      <td>no</td>\n",
       "      <td>southeast</td>\n",
       "      <td>11856.41150</td>\n",
       "    </tr>\n",
       "    <tr>\n",
       "      <th>560</th>\n",
       "      <td>46</td>\n",
       "      <td>female</td>\n",
       "      <td>19.950</td>\n",
       "      <td>2</td>\n",
       "      <td>no</td>\n",
       "      <td>northwest</td>\n",
       "      <td>9193.83850</td>\n",
       "    </tr>\n",
       "    <tr>\n",
       "      <th>...</th>\n",
       "      <td>...</td>\n",
       "      <td>...</td>\n",
       "      <td>...</td>\n",
       "      <td>...</td>\n",
       "      <td>...</td>\n",
       "      <td>...</td>\n",
       "      <td>...</td>\n",
       "    </tr>\n",
       "    <tr>\n",
       "      <th>356</th>\n",
       "      <td>46</td>\n",
       "      <td>male</td>\n",
       "      <td>43.890</td>\n",
       "      <td>3</td>\n",
       "      <td>no</td>\n",
       "      <td>southeast</td>\n",
       "      <td>8944.11510</td>\n",
       "    </tr>\n",
       "    <tr>\n",
       "      <th>960</th>\n",
       "      <td>19</td>\n",
       "      <td>female</td>\n",
       "      <td>39.615</td>\n",
       "      <td>1</td>\n",
       "      <td>no</td>\n",
       "      <td>northwest</td>\n",
       "      <td>2730.10785</td>\n",
       "    </tr>\n",
       "    <tr>\n",
       "      <th>812</th>\n",
       "      <td>54</td>\n",
       "      <td>male</td>\n",
       "      <td>21.010</td>\n",
       "      <td>2</td>\n",
       "      <td>no</td>\n",
       "      <td>southeast</td>\n",
       "      <td>11013.71190</td>\n",
       "    </tr>\n",
       "    <tr>\n",
       "      <th>132</th>\n",
       "      <td>53</td>\n",
       "      <td>female</td>\n",
       "      <td>35.900</td>\n",
       "      <td>2</td>\n",
       "      <td>no</td>\n",
       "      <td>southwest</td>\n",
       "      <td>11163.56800</td>\n",
       "    </tr>\n",
       "    <tr>\n",
       "      <th>885</th>\n",
       "      <td>32</td>\n",
       "      <td>male</td>\n",
       "      <td>28.930</td>\n",
       "      <td>1</td>\n",
       "      <td>yes</td>\n",
       "      <td>southeast</td>\n",
       "      <td>19719.69470</td>\n",
       "    </tr>\n",
       "  </tbody>\n",
       "</table>\n",
       "<p>1070 rows × 7 columns</p>\n",
       "</div>"
      ],
      "text/plain": [
       "     age     sex     bmi  children smoker     region      charges\n",
       "425   45    male  24.310         5     no  southeast   9788.86590\n",
       "851   61    male  32.300         2     no  northwest  14119.62000\n",
       "22    18    male  34.100         0     no  southeast   1137.01100\n",
       "386   58  female  39.050         0     no  southeast  11856.41150\n",
       "560   46  female  19.950         2     no  northwest   9193.83850\n",
       "..   ...     ...     ...       ...    ...        ...          ...\n",
       "356   46    male  43.890         3     no  southeast   8944.11510\n",
       "960   19  female  39.615         1     no  northwest   2730.10785\n",
       "812   54    male  21.010         2     no  southeast  11013.71190\n",
       "132   53  female  35.900         2     no  southwest  11163.56800\n",
       "885   32    male  28.930         1    yes  southeast  19719.69470\n",
       "\n",
       "[1070 rows x 7 columns]"
      ]
     },
     "execution_count": 15,
     "metadata": {},
     "output_type": "execute_result"
    }
   ],
   "source": [
    "train_set"
   ]
  },
  {
   "cell_type": "code",
   "execution_count": 16,
   "id": "0a30a5f0",
   "metadata": {},
   "outputs": [
    {
     "data": {
      "text/html": [
       "<div>\n",
       "<style scoped>\n",
       "    .dataframe tbody tr th:only-of-type {\n",
       "        vertical-align: middle;\n",
       "    }\n",
       "\n",
       "    .dataframe tbody tr th {\n",
       "        vertical-align: top;\n",
       "    }\n",
       "\n",
       "    .dataframe thead th {\n",
       "        text-align: right;\n",
       "    }\n",
       "</style>\n",
       "<table border=\"1\" class=\"dataframe\">\n",
       "  <thead>\n",
       "    <tr style=\"text-align: right;\">\n",
       "      <th></th>\n",
       "      <th>age</th>\n",
       "      <th>sex</th>\n",
       "      <th>bmi</th>\n",
       "      <th>children</th>\n",
       "      <th>smoker</th>\n",
       "      <th>region</th>\n",
       "      <th>charges</th>\n",
       "    </tr>\n",
       "  </thead>\n",
       "  <tbody>\n",
       "    <tr>\n",
       "      <th>1231</th>\n",
       "      <td>20</td>\n",
       "      <td>female</td>\n",
       "      <td>21.800</td>\n",
       "      <td>0</td>\n",
       "      <td>yes</td>\n",
       "      <td>southwest</td>\n",
       "      <td>20167.33603</td>\n",
       "    </tr>\n",
       "    <tr>\n",
       "      <th>768</th>\n",
       "      <td>64</td>\n",
       "      <td>female</td>\n",
       "      <td>39.700</td>\n",
       "      <td>0</td>\n",
       "      <td>no</td>\n",
       "      <td>southwest</td>\n",
       "      <td>14319.03100</td>\n",
       "    </tr>\n",
       "    <tr>\n",
       "      <th>847</th>\n",
       "      <td>23</td>\n",
       "      <td>male</td>\n",
       "      <td>50.380</td>\n",
       "      <td>1</td>\n",
       "      <td>no</td>\n",
       "      <td>southeast</td>\n",
       "      <td>2438.05520</td>\n",
       "    </tr>\n",
       "    <tr>\n",
       "      <th>510</th>\n",
       "      <td>56</td>\n",
       "      <td>male</td>\n",
       "      <td>32.110</td>\n",
       "      <td>1</td>\n",
       "      <td>no</td>\n",
       "      <td>northeast</td>\n",
       "      <td>11763.00090</td>\n",
       "    </tr>\n",
       "    <tr>\n",
       "      <th>363</th>\n",
       "      <td>21</td>\n",
       "      <td>female</td>\n",
       "      <td>26.400</td>\n",
       "      <td>1</td>\n",
       "      <td>no</td>\n",
       "      <td>southwest</td>\n",
       "      <td>2597.77900</td>\n",
       "    </tr>\n",
       "    <tr>\n",
       "      <th>...</th>\n",
       "      <td>...</td>\n",
       "      <td>...</td>\n",
       "      <td>...</td>\n",
       "      <td>...</td>\n",
       "      <td>...</td>\n",
       "      <td>...</td>\n",
       "      <td>...</td>\n",
       "    </tr>\n",
       "    <tr>\n",
       "      <th>882</th>\n",
       "      <td>21</td>\n",
       "      <td>female</td>\n",
       "      <td>22.135</td>\n",
       "      <td>0</td>\n",
       "      <td>no</td>\n",
       "      <td>northeast</td>\n",
       "      <td>2585.85065</td>\n",
       "    </tr>\n",
       "    <tr>\n",
       "      <th>1039</th>\n",
       "      <td>19</td>\n",
       "      <td>male</td>\n",
       "      <td>27.265</td>\n",
       "      <td>2</td>\n",
       "      <td>no</td>\n",
       "      <td>northwest</td>\n",
       "      <td>22493.65964</td>\n",
       "    </tr>\n",
       "    <tr>\n",
       "      <th>874</th>\n",
       "      <td>44</td>\n",
       "      <td>male</td>\n",
       "      <td>21.850</td>\n",
       "      <td>3</td>\n",
       "      <td>no</td>\n",
       "      <td>northeast</td>\n",
       "      <td>8891.13950</td>\n",
       "    </tr>\n",
       "    <tr>\n",
       "      <th>757</th>\n",
       "      <td>47</td>\n",
       "      <td>female</td>\n",
       "      <td>27.830</td>\n",
       "      <td>0</td>\n",
       "      <td>yes</td>\n",
       "      <td>southeast</td>\n",
       "      <td>23065.42070</td>\n",
       "    </tr>\n",
       "    <tr>\n",
       "      <th>701</th>\n",
       "      <td>50</td>\n",
       "      <td>female</td>\n",
       "      <td>44.745</td>\n",
       "      <td>0</td>\n",
       "      <td>no</td>\n",
       "      <td>northeast</td>\n",
       "      <td>9541.69555</td>\n",
       "    </tr>\n",
       "  </tbody>\n",
       "</table>\n",
       "<p>268 rows × 7 columns</p>\n",
       "</div>"
      ],
      "text/plain": [
       "      age     sex     bmi  children smoker     region      charges\n",
       "1231   20  female  21.800         0    yes  southwest  20167.33603\n",
       "768    64  female  39.700         0     no  southwest  14319.03100\n",
       "847    23    male  50.380         1     no  southeast   2438.05520\n",
       "510    56    male  32.110         1     no  northeast  11763.00090\n",
       "363    21  female  26.400         1     no  southwest   2597.77900\n",
       "...   ...     ...     ...       ...    ...        ...          ...\n",
       "882    21  female  22.135         0     no  northeast   2585.85065\n",
       "1039   19    male  27.265         2     no  northwest  22493.65964\n",
       "874    44    male  21.850         3     no  northeast   8891.13950\n",
       "757    47  female  27.830         0    yes  southeast  23065.42070\n",
       "701    50  female  44.745         0     no  northeast   9541.69555\n",
       "\n",
       "[268 rows x 7 columns]"
      ]
     },
     "execution_count": 16,
     "metadata": {},
     "output_type": "execute_result"
    }
   ],
   "source": [
    "test_set"
   ]
  },
  {
   "cell_type": "code",
   "execution_count": 17,
   "id": "13d81cbc",
   "metadata": {},
   "outputs": [],
   "source": [
    "#creating a copy of train set\n",
    "insurance = train_set.copy()"
   ]
  },
  {
   "cell_type": "code",
   "execution_count": 18,
   "id": "dd6cdfd0",
   "metadata": {},
   "outputs": [
    {
     "data": {
      "text/plain": [
       "<AxesSubplot:xlabel='age', ylabel='bmi'>"
      ]
     },
     "execution_count": 18,
     "metadata": {},
     "output_type": "execute_result"
    },
    {
     "data": {
      "image/png": "[encoded data removed]",
      "text/plain": [
       "<Figure size 432x288 with 1 Axes>"
      ]
     },
     "metadata": {
      "needs_background": "light"
     },
     "output_type": "display_data"
    }
   ],
   "source": [
    "insurance.plot(kind='scatter', x='age', y='bmi')"
   ]
  },
  {
   "cell_type": "code",
   "execution_count": 19,
   "id": "ac6c8b2a",
   "metadata": {},
   "outputs": [
    {
     "data": {
      "text/plain": [
       "<AxesSubplot:xlabel='age', ylabel='bmi'>"
      ]
     },
     "execution_count": 19,
     "metadata": {},
     "output_type": "execute_result"
    },
    {
     "data": {
      "image/png": "[encoded data removed]",
      "text/plain": [
       "<Figure size 432x288 with 1 Axes>"
      ]
     },
     "metadata": {
      "needs_background": "light"
     },
     "output_type": "display_data"
    }
   ],
   "source": [
    "insurance.plot(kind='scatter', x='age', y='bmi', alpha=0.1)"
   ]
  },
  {
   "cell_type": "code",
   "execution_count": 20,
   "id": "1b8c5cad",
   "metadata": {},
   "outputs": [],
   "source": [
    "corr_matrix = insurance.corr()"
   ]
  },
  {
   "cell_type": "code",
   "execution_count": 22,
   "id": "9d36e4f6",
   "metadata": {},
   "outputs": [
    {
     "data": {
      "text/html": [
       "<div>\n",
       "<style scoped>\n",
       "    .dataframe tbody tr th:only-of-type {\n",
       "        vertical-align: middle;\n",
       "    }\n",
       "\n",
       "    .dataframe tbody tr th {\n",
       "        vertical-align: top;\n",
       "    }\n",
       "\n",
       "    .dataframe thead th {\n",
       "        text-align: right;\n",
       "    }\n",
       "</style>\n",
       "<table border=\"1\" class=\"dataframe\">\n",
       "  <thead>\n",
       "    <tr style=\"text-align: right;\">\n",
       "      <th></th>\n",
       "      <th>age</th>\n",
       "      <th>bmi</th>\n",
       "      <th>children</th>\n",
       "      <th>charges</th>\n",
       "    </tr>\n",
       "  </thead>\n",
       "  <tbody>\n",
       "    <tr>\n",
       "      <th>age</th>\n",
       "      <td>1.000000</td>\n",
       "      <td>0.120633</td>\n",
       "      <td>0.032882</td>\n",
       "      <td>0.307095</td>\n",
       "    </tr>\n",
       "    <tr>\n",
       "      <th>bmi</th>\n",
       "      <td>0.120633</td>\n",
       "      <td>1.000000</td>\n",
       "      <td>0.014318</td>\n",
       "      <td>0.201996</td>\n",
       "    </tr>\n",
       "    <tr>\n",
       "      <th>children</th>\n",
       "      <td>0.032882</td>\n",
       "      <td>0.014318</td>\n",
       "      <td>1.000000</td>\n",
       "      <td>0.064840</td>\n",
       "    </tr>\n",
       "    <tr>\n",
       "      <th>charges</th>\n",
       "      <td>0.307095</td>\n",
       "      <td>0.201996</td>\n",
       "      <td>0.064840</td>\n",
       "      <td>1.000000</td>\n",
       "    </tr>\n",
       "  </tbody>\n",
       "</table>\n",
       "</div>"
      ],
      "text/plain": [
       "               age       bmi  children   charges\n",
       "age       1.000000  0.120633  0.032882  0.307095\n",
       "bmi       0.120633  1.000000  0.014318  0.201996\n",
       "children  0.032882  0.014318  1.000000  0.064840\n",
       "charges   0.307095  0.201996  0.064840  1.000000"
      ]
     },
     "execution_count": 22,
     "metadata": {},
     "output_type": "execute_result"
    }
   ],
   "source": [
    "corr_matrix"
   ]
  },
  {
   "cell_type": "code",
   "execution_count": 23,
   "id": "485a0455",
   "metadata": {},
   "outputs": [
    {
     "data": {
      "text/plain": [
       "charges     1.000000\n",
       "age         0.307095\n",
       "bmi         0.201996\n",
       "children    0.064840\n",
       "Name: charges, dtype: float64"
      ]
     },
     "execution_count": 23,
     "metadata": {},
     "output_type": "execute_result"
    }
   ],
   "source": [
    "corr_matrix['charges'].sort_values(ascending=False)"
   ]
  },
  {
   "cell_type": "code",
   "execution_count": 24,
   "id": "6c0283d1",
   "metadata": {},
   "outputs": [
    {
     "data": {
      "text/plain": [
       "array([[<AxesSubplot:xlabel='age', ylabel='age'>,\n",
       "        <AxesSubplot:xlabel='bmi', ylabel='age'>,\n",
       "        <AxesSubplot:xlabel='children', ylabel='age'>,\n",
       "        <AxesSubplot:xlabel='charges', ylabel='age'>],\n",
       "       [<AxesSubplot:xlabel='age', ylabel='bmi'>,\n",
       "        <AxesSubplot:xlabel='bmi', ylabel='bmi'>,\n",
       "        <AxesSubplot:xlabel='children', ylabel='bmi'>,\n",
       "        <AxesSubplot:xlabel='charges', ylabel='bmi'>],\n",
       "       [<AxesSubplot:xlabel='age', ylabel='children'>,\n",
       "        <AxesSubplot:xlabel='bmi', ylabel='children'>,\n",
       "        <AxesSubplot:xlabel='children', ylabel='children'>,\n",
       "        <AxesSubplot:xlabel='charges', ylabel='children'>],\n",
       "       [<AxesSubplot:xlabel='age', ylabel='charges'>,\n",
       "        <AxesSubplot:xlabel='bmi', ylabel='charges'>,\n",
       "        <AxesSubplot:xlabel='children', ylabel='charges'>,\n",
       "        <AxesSubplot:xlabel='charges', ylabel='charges'>]], dtype=object)"
      ]
     },
     "execution_count": 24,
     "metadata": {},
     "output_type": "execute_result"
    },
    {
     "data": {
      "image/png": "[encoded data removed]",
      "text/plain": [
       "<Figure size 864x576 with 16 Axes>"
      ]
     },
     "metadata": {
      "needs_background": "light"
     },
     "output_type": "display_data"
    }
   ],
   "source": [
    "#checking for correlation using pandas scatter plot\n",
    "from pandas.plotting import scatter_matrix\n",
    "\n",
    "scatter_matrix(insurance, figsize=(12,8))"
   ]
  },
  {
   "cell_type": "code",
   "execution_count": 25,
   "id": "e3a35e5d",
   "metadata": {},
   "outputs": [
    {
     "data": {
      "text/plain": [
       "<AxesSubplot:xlabel='age', ylabel='charges'>"
      ]
     },
     "execution_count": 25,
     "metadata": {},
     "output_type": "execute_result"
    },
    {
     "data": {
      "image/png": "[encoded data removed]",
      "text/plain": [
       "<Figure size 432x288 with 1 Axes>"
      ]
     },
     "metadata": {
      "needs_background": "light"
     },
     "output_type": "display_data"
    }
   ],
   "source": [
    "#the most correlated feature with charges is age, visualizing further into it\n",
    "insurance.plot(kind='scatter', x='age', y='charges', alpha=0.1)"
   ]
  },
  {
   "cell_type": "code",
   "execution_count": 55,
   "id": "a40a3ad8",
   "metadata": {},
   "outputs": [],
   "source": [
    "#preparing data for ML algorithm\n",
    "insurance = train_set.drop('charges', axis=1)\n",
    "insurance_labels = train_set['charges'].copy()"
   ]
  },
  {
   "cell_type": "code",
   "execution_count": 30,
   "id": "d5e6c99b",
   "metadata": {},
   "outputs": [],
   "source": [
    "#using sklearn method to fill empty cell\n",
    "from sklearn.impute import SimpleImputer\n",
    "imputer = SimpleImputer(strategy=\"median\")"
   ]
  },
  {
   "cell_type": "code",
   "execution_count": 33,
   "id": "4fd9f392",
   "metadata": {},
   "outputs": [],
   "source": [
    "#dropping the text column\n",
    "insurance_num = insurance.drop(['sex', 'region', 'smoker'], axis=1)"
   ]
  },
  {
   "cell_type": "code",
   "execution_count": 34,
   "id": "19a9c77f",
   "metadata": {},
   "outputs": [
    {
     "data": {
      "text/plain": [
       "SimpleImputer(strategy='median')"
      ]
     },
     "execution_count": 34,
     "metadata": {},
     "output_type": "execute_result"
    }
   ],
   "source": [
    "#fitting imputer into training dataset\n",
    "imputer.fit(insurance_num)"
   ]
  },
  {
   "cell_type": "code",
   "execution_count": 35,
   "id": "9f2688c4",
   "metadata": {},
   "outputs": [
    {
     "data": {
      "text/plain": [
       "array([39.    , 30.3025,  1.    ])"
      ]
     },
     "execution_count": 35,
     "metadata": {},
     "output_type": "execute_result"
    }
   ],
   "source": [
    "#getting the result of imputer\n",
    "imputer.statistics_"
   ]
  },
  {
   "cell_type": "code",
   "execution_count": 37,
   "id": "5d777031",
   "metadata": {},
   "outputs": [
    {
     "data": {
      "text/plain": [
       "array([39.    , 30.3025,  1.    ])"
      ]
     },
     "execution_count": 37,
     "metadata": {},
     "output_type": "execute_result"
    }
   ],
   "source": [
    "insurance_num.median().values"
   ]
  },
  {
   "cell_type": "code",
   "execution_count": 38,
   "id": "6c681785",
   "metadata": {},
   "outputs": [],
   "source": [
    "#using trained imputer to transform the training set by replacing missing value with learned medians\n",
    "X = imputer.transform(insurance_num)"
   ]
  },
  {
   "cell_type": "code",
   "execution_count": 40,
   "id": "5b9f2cce",
   "metadata": {},
   "outputs": [
    {
     "name": "stdout",
     "output_type": "stream",
     "text": [
      "<class 'pandas.core.frame.DataFrame'>\n",
      "RangeIndex: 1070 entries, 0 to 1069\n",
      "Data columns (total 3 columns):\n",
      " #   Column    Non-Null Count  Dtype  \n",
      "---  ------    --------------  -----  \n",
      " 0   age       1070 non-null   float64\n",
      " 1   bmi       1070 non-null   float64\n",
      " 2   children  1070 non-null   float64\n",
      "dtypes: float64(3)\n",
      "memory usage: 25.2 KB\n"
     ]
    }
   ],
   "source": [
    "insurance_tr = pd.DataFrame(X, columns=insurance_num.columns)\n",
    "insurance_tr.info()"
   ]
  },
  {
   "cell_type": "code",
   "execution_count": 42,
   "id": "cb2b8946",
   "metadata": {},
   "outputs": [
    {
     "data": {
      "text/html": [
       "<div>\n",
       "<style scoped>\n",
       "    .dataframe tbody tr th:only-of-type {\n",
       "        vertical-align: middle;\n",
       "    }\n",
       "\n",
       "    .dataframe tbody tr th {\n",
       "        vertical-align: top;\n",
       "    }\n",
       "\n",
       "    .dataframe thead th {\n",
       "        text-align: right;\n",
       "    }\n",
       "</style>\n",
       "<table border=\"1\" class=\"dataframe\">\n",
       "  <thead>\n",
       "    <tr style=\"text-align: right;\">\n",
       "      <th></th>\n",
       "      <th>sex</th>\n",
       "      <th>region</th>\n",
       "      <th>smoker</th>\n",
       "    </tr>\n",
       "  </thead>\n",
       "  <tbody>\n",
       "    <tr>\n",
       "      <th>425</th>\n",
       "      <td>male</td>\n",
       "      <td>southeast</td>\n",
       "      <td>no</td>\n",
       "    </tr>\n",
       "    <tr>\n",
       "      <th>851</th>\n",
       "      <td>male</td>\n",
       "      <td>northwest</td>\n",
       "      <td>no</td>\n",
       "    </tr>\n",
       "    <tr>\n",
       "      <th>22</th>\n",
       "      <td>male</td>\n",
       "      <td>southeast</td>\n",
       "      <td>no</td>\n",
       "    </tr>\n",
       "    <tr>\n",
       "      <th>386</th>\n",
       "      <td>female</td>\n",
       "      <td>southeast</td>\n",
       "      <td>no</td>\n",
       "    </tr>\n",
       "    <tr>\n",
       "      <th>560</th>\n",
       "      <td>female</td>\n",
       "      <td>northwest</td>\n",
       "      <td>no</td>\n",
       "    </tr>\n",
       "    <tr>\n",
       "      <th>649</th>\n",
       "      <td>female</td>\n",
       "      <td>northeast</td>\n",
       "      <td>no</td>\n",
       "    </tr>\n",
       "    <tr>\n",
       "      <th>162</th>\n",
       "      <td>male</td>\n",
       "      <td>southwest</td>\n",
       "      <td>no</td>\n",
       "    </tr>\n",
       "    <tr>\n",
       "      <th>248</th>\n",
       "      <td>male</td>\n",
       "      <td>southwest</td>\n",
       "      <td>no</td>\n",
       "    </tr>\n",
       "    <tr>\n",
       "      <th>1013</th>\n",
       "      <td>male</td>\n",
       "      <td>northwest</td>\n",
       "      <td>no</td>\n",
       "    </tr>\n",
       "    <tr>\n",
       "      <th>258</th>\n",
       "      <td>male</td>\n",
       "      <td>northwest</td>\n",
       "      <td>no</td>\n",
       "    </tr>\n",
       "  </tbody>\n",
       "</table>\n",
       "</div>"
      ],
      "text/plain": [
       "         sex     region smoker\n",
       "425     male  southeast     no\n",
       "851     male  northwest     no\n",
       "22      male  southeast     no\n",
       "386   female  southeast     no\n",
       "560   female  northwest     no\n",
       "649   female  northeast     no\n",
       "162     male  southwest     no\n",
       "248     male  southwest     no\n",
       "1013    male  northwest     no\n",
       "258     male  northwest     no"
      ]
     },
     "execution_count": 42,
     "metadata": {},
     "output_type": "execute_result"
    }
   ],
   "source": [
    "#handling categorical attributes\n",
    "insurance_cat = insurance[['sex', 'region', 'smoker']]\n",
    "insurance_cat.head(10)"
   ]
  },
  {
   "cell_type": "code",
   "execution_count": 43,
   "id": "e6263bb8",
   "metadata": {},
   "outputs": [
    {
     "data": {
      "text/plain": [
       "<1070x8 sparse matrix of type '<class 'numpy.float64'>'\n",
       "\twith 3210 stored elements in Compressed Sparse Row format>"
      ]
     },
     "execution_count": 43,
     "metadata": {},
     "output_type": "execute_result"
    }
   ],
   "source": [
    "#using onehotencoder to convert from categorical to numeric\n",
    "from sklearn.preprocessing import OneHotEncoder\n",
    "cat_encoder = OneHotEncoder()\n",
    "insurance_cat_1hot = cat_encoder.fit_transform(insurance_cat)\n",
    "insurance_cat_1hot"
   ]
  },
  {
   "cell_type": "code",
   "execution_count": 44,
   "id": "a08dac0f",
   "metadata": {},
   "outputs": [
    {
     "data": {
      "text/plain": [
       "array([[0., 1., 0., ..., 0., 1., 0.],\n",
       "       [0., 1., 0., ..., 0., 1., 0.],\n",
       "       [0., 1., 0., ..., 0., 1., 0.],\n",
       "       ...,\n",
       "       [0., 1., 0., ..., 0., 1., 0.],\n",
       "       [1., 0., 0., ..., 1., 1., 0.],\n",
       "       [0., 1., 0., ..., 0., 0., 1.]])"
      ]
     },
     "execution_count": 44,
     "metadata": {},
     "output_type": "execute_result"
    }
   ],
   "source": [
    "insurance_cat_1hot.toarray()"
   ]
  },
  {
   "cell_type": "code",
   "execution_count": 48,
   "id": "cdb7212a",
   "metadata": {},
   "outputs": [],
   "source": [
    "#Featuring SCaling\n",
    "from sklearn.pipeline import Pipeline\n",
    "from sklearn.preprocessing import StandardScaler\n",
    "\n",
    "num_pipeline = Pipeline([\n",
    "    ('imputer', SimpleImputer(strategy='median')),\n",
    "    ('std_scaler', StandardScaler())\n",
    "])\n",
    "insurance_num_tr = num_pipeline.fit_transform(insurance_num)"
   ]
  },
  {
   "cell_type": "code",
   "execution_count": 75,
   "id": "cc182124",
   "metadata": {},
   "outputs": [],
   "source": [
    "from sklearn.compose import ColumnTransformer\n",
    "num_attribs = list(insurance_num)\n",
    "cat_attribs = ['sex', 'region', 'smoker']\n",
    "full_pipeline = ColumnTransformer([\n",
    " (\"num\", num_pipeline, num_attribs),\n",
    " (\"cat\", OneHotEncoder(), cat_attribs),\n",
    " ])\n",
    "insurance_prepared = full_pipeline.fit_transform(insurance)"
   ]
  },
  {
   "cell_type": "code",
   "execution_count": 76,
   "id": "006f58fe",
   "metadata": {},
   "outputs": [
    {
     "data": {
      "text/plain": [
       "(1070, 11)"
      ]
     },
     "execution_count": 76,
     "metadata": {},
     "output_type": "execute_result"
    }
   ],
   "source": [
    "insurance_prepared.shape"
   ]
  },
  {
   "cell_type": "code",
   "execution_count": 53,
   "id": "a600cf21",
   "metadata": {},
   "outputs": [],
   "source": [
    "#Select and Train a Model\n",
    "#Training and Evaluating on the Training Set"
   ]
  },
  {
   "cell_type": "code",
   "execution_count": 77,
   "id": "a02c64cb",
   "metadata": {},
   "outputs": [
    {
     "data": {
      "text/plain": [
       "LinearRegression()"
      ]
     },
     "execution_count": 77,
     "metadata": {},
     "output_type": "execute_result"
    }
   ],
   "source": [
    "from sklearn.linear_model import LinearRegression\n",
    "lin_reg = LinearRegression()\n",
    "lin_reg.fit(insurance_prepared, insurance_labels)"
   ]
  },
  {
   "cell_type": "code",
   "execution_count": 105,
   "id": "e8d4acad",
   "metadata": {},
   "outputs": [],
   "source": [
    "#picking some data to validate\n",
    "some_data = insurance.iloc[:11]\n",
    "some_labels = insurance_labels[:11]\n",
    "some_data_prepared = full_pipeline.fit_transform(some_data)"
   ]
  },
  {
   "cell_type": "code",
   "execution_count": 106,
   "id": "edda66d7",
   "metadata": {},
   "outputs": [
    {
     "data": {
      "text/plain": [
       "(11, 11)"
      ]
     },
     "execution_count": 106,
     "metadata": {},
     "output_type": "execute_result"
    }
   ],
   "source": [
    "some_data_prepared.shape\n"
   ]
  },
  {
   "cell_type": "code",
   "execution_count": 107,
   "id": "dcf71b67",
   "metadata": {},
   "outputs": [
    {
     "name": "stdout",
     "output_type": "stream",
     "text": [
      "Predictions: [ 7582.48638057 13553.87872388  2636.89627406 13825.36940711\n",
      "  6285.31556374 12827.92730339 13461.47852868  -774.69474898\n",
      " 10154.41853108  9385.47057418 24924.34512785]\n",
      "Labels: [9788.8659, 14119.62, 1137.011, 11856.4115, 9193.8385, 12430.95335, 10450.552, 1832.094, 8765.249, 11520.09985, 17085.2676]\n"
     ]
    }
   ],
   "source": [
    "print(\"Predictions:\", lin_reg.predict(some_data_prepared))\n",
    "print(\"Labels:\", list(some_labels))"
   ]
  },
  {
   "cell_type": "code",
   "execution_count": 108,
   "id": "85a12abd",
   "metadata": {},
   "outputs": [
    {
     "data": {
      "text/plain": [
       "'It works, although the predictions are not exactly accurate (e.g., the first prediction is\\noff by close to 40%!). Let’s measure this regression model’s RMSE on the whole train‐\\ning set using Scikit-Learn’s mean_squared_error function:'"
      ]
     },
     "execution_count": 108,
     "metadata": {},
     "output_type": "execute_result"
    }
   ],
   "source": [
    "'''It works, although the predictions are not exactly accurate (e.g., the first prediction is\n",
    "off by close to 22%!). Let’s measure this regression model’s RMSE on the whole train‐\n",
    "ing set using Scikit-Learn’s mean_squared_error function:'''"
   ]
  },
  {
   "cell_type": "code",
   "execution_count": 111,
   "id": "18d69e1d",
   "metadata": {},
   "outputs": [
    {
     "data": {
      "text/plain": [
       "6062.731020519986"
      ]
     },
     "execution_count": 111,
     "metadata": {},
     "output_type": "execute_result"
    }
   ],
   "source": [
    "from sklearn.metrics import mean_squared_error\n",
    "import numpy as np\n",
    "insurance_predictions = lin_reg.predict(insurance_prepared)\n",
    "lin_mse = mean_squared_error(insurance_labels, insurance_predictions)\n",
    "lin_rmse = np.sqrt(lin_mse)\n",
    "lin_rmse"
   ]
  },
  {
   "cell_type": "code",
   "execution_count": 112,
   "id": "d1a7f16a",
   "metadata": {},
   "outputs": [
    {
     "data": {
      "text/plain": [
       "DecisionTreeRegressor()"
      ]
     },
     "execution_count": 112,
     "metadata": {},
     "output_type": "execute_result"
    }
   ],
   "source": [
    "#using decisiontreeRegressor\n",
    "from sklearn.tree import DecisionTreeRegressor\n",
    "tree_reg = DecisionTreeRegressor()\n",
    "tree_reg.fit(insurance_prepared, insurance_labels)"
   ]
  },
  {
   "cell_type": "code",
   "execution_count": 113,
   "id": "801b1086",
   "metadata": {},
   "outputs": [
    {
     "data": {
      "text/plain": [
       "0.0"
      ]
     },
     "execution_count": 113,
     "metadata": {},
     "output_type": "execute_result"
    }
   ],
   "source": [
    "insurance_predictions = tree_reg.predict(insurance_prepared)\n",
    "tree_mse = mean_squared_error(insurance_labels, insurance_predictions)\n",
    "tree_rmse = np.sqrt(tree_mse)\n",
    "tree_rmse"
   ]
  },
  {
   "cell_type": "code",
   "execution_count": 114,
   "id": "c1a6b987",
   "metadata": {},
   "outputs": [],
   "source": [
    "#using cross-validation"
   ]
  },
  {
   "cell_type": "code",
   "execution_count": 116,
   "id": "331239a0",
   "metadata": {},
   "outputs": [],
   "source": [
    "from sklearn.model_selection import cross_val_score\n",
    "scores = cross_val_score(tree_reg, insurance_prepared, insurance_labels, scoring='neg_mean_squared_error', cv=10)\n",
    "tree_rmse_scores = np.sqrt(-scores)"
   ]
  },
  {
   "cell_type": "code",
   "execution_count": 117,
   "id": "44da216e",
   "metadata": {},
   "outputs": [
    {
     "name": "stdout",
     "output_type": "stream",
     "text": [
      "Scores: [6632.76495677 7565.56779952 6615.68549459 6775.16020195 4544.94697429\n",
      " 5930.37877947 6313.36155507 5920.89910635 7116.99601401 5781.30981998]\n",
      "Mean: 6319.707070200188\n",
      "Standard deviation: 795.688017547214\n"
     ]
    }
   ],
   "source": [
    "def display_scores(scores):\n",
    " print(\"Scores:\", scores)\n",
    " print(\"Mean:\", scores.mean())\n",
    " print(\"Standard deviation:\", scores.std())\n",
    "\n",
    "display_scores(tree_rmse_scores)"
   ]
  },
  {
   "cell_type": "code",
   "execution_count": 118,
   "id": "47c05dc6",
   "metadata": {},
   "outputs": [
    {
     "name": "stdout",
     "output_type": "stream",
     "text": [
      "Scores: [6769.66300312 6705.54246025 5852.02924686 6778.73017655 4967.10442347\n",
      " 5272.78553563 6068.40563318 5527.07124888 6657.30571134 6307.04847486]\n",
      "Mean: 6090.568591414459\n",
      "Standard deviation: 631.4147039206463\n"
     ]
    }
   ],
   "source": [
    "lin_scores = cross_val_score(lin_reg, insurance_prepared, insurance_labels, scoring=\"neg_mean_squared_error\", cv=10)\n",
    "lin_rmse_scores = np.sqrt(-lin_scores)\n",
    "display_scores(lin_rmse_scores)"
   ]
  },
  {
   "cell_type": "code",
   "execution_count": 119,
   "id": "644ae8ff",
   "metadata": {},
   "outputs": [],
   "source": [
    "#the decision tree is overfitting\n",
    "#using random forest regressor"
   ]
  },
  {
   "cell_type": "code",
   "execution_count": 121,
   "id": "8112f923",
   "metadata": {},
   "outputs": [
    {
     "data": {
      "text/plain": [
       "RandomForestRegressor()"
      ]
     },
     "execution_count": 121,
     "metadata": {},
     "output_type": "execute_result"
    }
   ],
   "source": [
    "from sklearn.ensemble import RandomForestRegressor\n",
    "random_reg = RandomForestRegressor()\n",
    "random_reg.fit(insurance_prepared, insurance_labels)"
   ]
  },
  {
   "cell_type": "code",
   "execution_count": 124,
   "id": "ccbadab4",
   "metadata": {},
   "outputs": [
    {
     "data": {
      "text/plain": [
       "1761.1893634562791"
      ]
     },
     "execution_count": 124,
     "metadata": {},
     "output_type": "execute_result"
    }
   ],
   "source": [
    "insurance_predictions = random_reg.predict(insurance_prepared)\n",
    "random_mse = mean_squared_error(insurance_labels, insurance_predictions)\n",
    "random_rmse = np.sqrt(random_mse)\n",
    "random_rmse"
   ]
  },
  {
   "cell_type": "code",
   "execution_count": 127,
   "id": "b28f12c0",
   "metadata": {},
   "outputs": [
    {
     "name": "stdout",
     "output_type": "stream",
     "text": [
      "Scores: [5055.60810173 4789.00737169 4432.89301799 6085.44532839 3240.29376081\n",
      " 4001.17274782 4935.54962729 4443.9608847  5372.92052105 4911.9692819 ]\n",
      "Mean: 4726.882064337349\n",
      "Standard deviation: 731.8368924100555\n"
     ]
    }
   ],
   "source": [
    "random_scores = cross_val_score(random_reg, insurance_prepared, insurance_labels, scoring='neg_mean_squared_error', cv=10)\n",
    "random_rmse_scores = np.sqrt(-random_scores)\n",
    "display_scores(random_rmse_scores)"
   ]
  },
  {
   "cell_type": "code",
   "execution_count": 146,
   "id": "ad063029",
   "metadata": {},
   "outputs": [
    {
     "data": {
      "text/plain": [
       "SVR(C=50, kernel='linear')"
      ]
     },
     "execution_count": 146,
     "metadata": {},
     "output_type": "execute_result"
    }
   ],
   "source": [
    "#using svm\n",
    "from sklearn.svm import SVR\n",
    "svr = SVR(kernel='linear', C=50)\n",
    "svr.fit(insurance_prepared, insurance_labels)"
   ]
  },
  {
   "cell_type": "code",
   "execution_count": 147,
   "id": "32c163c9",
   "metadata": {},
   "outputs": [
    {
     "data": {
      "text/plain": [
       "8241.95399826986"
      ]
     },
     "execution_count": 147,
     "metadata": {},
     "output_type": "execute_result"
    }
   ],
   "source": [
    "insurance_predictions = svr.predict(insurance_prepared)\n",
    "svr_mse = mean_squared_error(insurance_labels, insurance_predictions)\n",
    "svr_rmse = np.sqrt(svr_mse)\n",
    "svr_rmse"
   ]
  },
  {
   "cell_type": "code",
   "execution_count": 148,
   "id": "9f87d8cc",
   "metadata": {},
   "outputs": [
    {
     "name": "stdout",
     "output_type": "stream",
     "text": [
      "Scores: [ 9138.36742577 10330.68306472  8024.58908195  9048.26967772\n",
      "  7130.82331124  6721.65695159  7520.2223697   6787.1274366\n",
      "  9636.47022015  7954.94689793]\n",
      "Mean: 8229.315643737946\n",
      "Standard deviation: 1186.2765823586112\n"
     ]
    }
   ],
   "source": [
    "svr_scores = cross_val_score(svr, insurance_prepared, insurance_labels,\n",
    "scoring=\"neg_mean_squared_error\", cv=10)\n",
    "\n",
    "svr_rmse_scores = np.sqrt(-svr_scores)\n",
    "display_scores(svr_rmse_scores)"
   ]
  },
  {
   "cell_type": "code",
   "execution_count": 149,
   "id": "97ef0d7d",
   "metadata": {},
   "outputs": [],
   "source": [
    "#Fine-Tune  Model"
   ]
  },
  {
   "cell_type": "code",
   "execution_count": 156,
   "id": "e038af6b",
   "metadata": {},
   "outputs": [
    {
     "data": {
      "text/plain": [
       "GridSearchCV(cv=5, estimator=RandomForestRegressor(),\n",
       "             param_grid=[{'max_features': [2, 4, 6, 8],\n",
       "                          'n_estimators': [3, 10, 20, 30]},\n",
       "                         {'bootstrap': [False], 'max_features': [2, 3, 4],\n",
       "                          'n_estimators': [3, 10]}],\n",
       "             return_train_score=True, scoring='neg_mean_squared_error')"
      ]
     },
     "execution_count": 156,
     "metadata": {},
     "output_type": "execute_result"
    }
   ],
   "source": [
    "from sklearn.model_selection import GridSearchCV\n",
    "param_grid = [\n",
    " {'n_estimators': [3, 10, 20, 30], 'max_features': [2, 4, 6, 8]},\n",
    " {'bootstrap': [False], 'n_estimators': [3, 10], 'max_features': [2, 3, 4]},\n",
    " ]\n",
    "forest_reg = RandomForestRegressor()\n",
    "grid_search = GridSearchCV(forest_reg, param_grid, cv=5,\n",
    " scoring='neg_mean_squared_error',\n",
    "return_train_score=True)\n",
    "grid_search.fit(insurance_prepared, insurance_labels)"
   ]
  },
  {
   "cell_type": "code",
   "execution_count": 157,
   "id": "e68341b5",
   "metadata": {},
   "outputs": [
    {
     "data": {
      "text/plain": [
       "{'max_features': 4, 'n_estimators': 30}"
      ]
     },
     "execution_count": 157,
     "metadata": {},
     "output_type": "execute_result"
    }
   ],
   "source": [
    "grid_search.best_params_"
   ]
  },
  {
   "cell_type": "code",
   "execution_count": 158,
   "id": "dc98459b",
   "metadata": {},
   "outputs": [
    {
     "name": "stdout",
     "output_type": "stream",
     "text": [
      "6058.860373551816 {'max_features': 2, 'n_estimators': 3}\n",
      "5140.116007474625 {'max_features': 2, 'n_estimators': 10}\n",
      "5035.772738230448 {'max_features': 2, 'n_estimators': 20}\n",
      "4977.599838527023 {'max_features': 2, 'n_estimators': 30}\n",
      "5239.307194798761 {'max_features': 4, 'n_estimators': 3}\n",
      "4795.572962191273 {'max_features': 4, 'n_estimators': 10}\n",
      "4727.958147266754 {'max_features': 4, 'n_estimators': 20}\n",
      "4651.997913921531 {'max_features': 4, 'n_estimators': 30}\n",
      "5172.6651756822475 {'max_features': 6, 'n_estimators': 3}\n",
      "4811.5401472560325 {'max_features': 6, 'n_estimators': 10}\n",
      "4667.858173546929 {'max_features': 6, 'n_estimators': 20}\n",
      "4691.282743276891 {'max_features': 6, 'n_estimators': 30}\n",
      "5185.702999833384 {'max_features': 8, 'n_estimators': 3}\n",
      "4856.763504653581 {'max_features': 8, 'n_estimators': 10}\n",
      "4751.250601624746 {'max_features': 8, 'n_estimators': 20}\n",
      "4716.907062113653 {'max_features': 8, 'n_estimators': 30}\n",
      "5651.82909219838 {'bootstrap': False, 'max_features': 2, 'n_estimators': 3}\n",
      "5087.765843204282 {'bootstrap': False, 'max_features': 2, 'n_estimators': 10}\n",
      "5389.649759009985 {'bootstrap': False, 'max_features': 3, 'n_estimators': 3}\n",
      "4969.850301382933 {'bootstrap': False, 'max_features': 3, 'n_estimators': 10}\n",
      "5294.837769637658 {'bootstrap': False, 'max_features': 4, 'n_estimators': 3}\n",
      "4870.367740398823 {'bootstrap': False, 'max_features': 4, 'n_estimators': 10}\n"
     ]
    }
   ],
   "source": [
    "cvres = grid_search.cv_results_\n",
    "for mean_score, params in zip(cvres[\"mean_test_score\"], cvres[\"params\"]):\n",
    "    print(np.sqrt(-mean_score), params)\n"
   ]
  },
  {
   "cell_type": "code",
   "execution_count": 159,
   "id": "7ea13cdb",
   "metadata": {},
   "outputs": [],
   "source": [
    "#Analyze the Best Models and Their Errors"
   ]
  },
  {
   "cell_type": "code",
   "execution_count": 160,
   "id": "d6174ec0",
   "metadata": {},
   "outputs": [
    {
     "data": {
      "text/plain": [
       "array([0.14592917, 0.18623696, 0.02536715, 0.00431048, 0.00379526,\n",
       "       0.00415148, 0.00520038, 0.00618815, 0.0045685 , 0.34302406,\n",
       "       0.27122841])"
      ]
     },
     "execution_count": 160,
     "metadata": {},
     "output_type": "execute_result"
    }
   ],
   "source": [
    "feature_importances = grid_search.best_estimator_.feature_importances_\n",
    "feature_importances\n"
   ]
  },
  {
   "cell_type": "code",
   "execution_count": 161,
   "id": "906ddf08",
   "metadata": {},
   "outputs": [
    {
     "data": {
      "text/plain": [
       "[(0.18623695695094572, 'bmi'),\n",
       " (0.14592917400194208, 'age'),\n",
       " (0.025367153355762492, 'children'),\n",
       " (0.006188147466221104, 'male'),\n",
       " (0.005200380022799063, 'female'),\n",
       " (0.004310479600760023, 'sex'),\n",
       " (0.0041514835605218, 'smoker'),\n",
       " (0.003795255013778744, 'region')]"
      ]
     },
     "execution_count": 161,
     "metadata": {},
     "output_type": "execute_result"
    }
   ],
   "source": [
    "extra_attribs = ['sex', 'region', 'smoker']\n",
    "cat_encoder = full_pipeline.named_transformers_[\"cat\"]\n",
    "cat_one_hot_attribs = list(cat_encoder.categories_[0])\n",
    "attributes = num_attribs + extra_attribs + cat_one_hot_attribs\n",
    "sorted(zip(feature_importances, attributes), reverse=True)"
   ]
  },
  {
   "cell_type": "code",
   "execution_count": 162,
   "id": "d02cbdcb",
   "metadata": {},
   "outputs": [],
   "source": [
    "#Evaluate Your System on the Test Set"
   ]
  },
  {
   "cell_type": "code",
   "execution_count": 163,
   "id": "dfb3ea09",
   "metadata": {},
   "outputs": [],
   "source": [
    "final_model = grid_search.best_estimator_\n",
    "X_test = test_set.drop(\"charges\", axis=1)\n",
    "y_test = test_set[\"charges\"].copy()\n",
    "X_test_prepared = full_pipeline.transform(X_test)\n",
    "final_predictions = final_model.predict(X_test_prepared)\n",
    "final_mse = mean_squared_error(y_test, final_predictions)\n",
    "final_rmse = np.sqrt(final_mse) # => evaluates to 47,730.2"
   ]
  },
  {
   "cell_type": "code",
   "execution_count": 164,
   "id": "dd44c496",
   "metadata": {},
   "outputs": [
    {
     "data": {
      "text/plain": [
       "5331.069662064115"
      ]
     },
     "execution_count": 164,
     "metadata": {},
     "output_type": "execute_result"
    }
   ],
   "source": [
    "final_rmse"
   ]
  },
  {
   "cell_type": "code",
   "execution_count": 165,
   "id": "891a6066",
   "metadata": {},
   "outputs": [
    {
     "data": {
      "text/plain": [
       "array([4288.22865619, 6200.94367623])"
      ]
     },
     "execution_count": 165,
     "metadata": {},
     "output_type": "execute_result"
    }
   ],
   "source": [
    "from scipy import stats\n",
    "confidence = 0.95\n",
    "squared_errors = (final_predictions - y_test) ** 2\n",
    "np.sqrt(stats.t.interval(confidence, len(squared_errors) - 1,\n",
    "loc=squared_errors.mean(),\n",
    "scale=stats.sem(squared_errors)))"
   ]
  },
  {
   "cell_type": "code",
   "execution_count": 171,
   "id": "251a4a7a",
   "metadata": {},
   "outputs": [],
   "source": [
    "final_model = RandomForestRegressor()\n",
    "X_test = test_set.drop(\"charges\", axis=1)\n",
    "y_test = test_set[\"charges\"].copy()\n",
    "X_test_prepared = full_pipeline.transform(X_test)\n",
    "final_model.fit(X_test_prepared, y_test)\n",
    "final_predictions = final_model.predict(X_test_prepared)\n",
    "final_mse = mean_squared_error(y_test, final_predictions)\n",
    "final_rmse = np.sqrt(final_mse) # => evaluates to 47,730.2"
   ]
  },
  {
   "cell_type": "code",
   "execution_count": 172,
   "id": "df899d29",
   "metadata": {},
   "outputs": [
    {
     "data": {
      "text/plain": [
       "1943.364573046188"
      ]
     },
     "execution_count": 172,
     "metadata": {},
     "output_type": "execute_result"
    }
   ],
   "source": [
    "final_rmse"
   ]
  },
  {
   "cell_type": "code",
   "execution_count": 173,
   "id": "1a25097e",
   "metadata": {},
   "outputs": [
    {
     "data": {
      "text/plain": [
       "array([1592.11859443, 2240.1986762 ])"
      ]
     },
     "execution_count": 173,
     "metadata": {},
     "output_type": "execute_result"
    }
   ],
   "source": [
    "from scipy import stats\n",
    "confidence = 0.95\n",
    "squared_errors = (final_predictions - y_test) ** 2\n",
    "np.sqrt(stats.t.interval(confidence, len(squared_errors) - 1,\n",
    "loc=squared_errors.mean(),\n",
    "scale=stats.sem(squared_errors)))"
   ]
  },
  {
   "cell_type": "code",
   "execution_count": null,
   "id": "1532d64a",
   "metadata": {},
   "outputs": [],
   "source": []
  }
 ],
 "metadata": {
  "kernelspec": {
   "display_name": "Python 3",
   "language": "python",
   "name": "python3"
  },
  "language_info": {
   "codemirror_mode": {
    "name": "ipython",
    "version": 3
   },
   "file_extension": ".py",
   "mimetype": "text/x-python",
   "name": "python",
   "nbconvert_exporter": "python",
   "pygments_lexer": "ipython3",
   "version": "3.8.8"
  }
 },
 "nbformat": 4,
 "nbformat_minor": 5
}
